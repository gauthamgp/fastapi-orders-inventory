{
 "cells": [
  {
   "cell_type": "code",
   "execution_count": 9,
   "metadata": {},
   "outputs": [],
   "source": [
    "import weaviate\n",
    "from weaviate.classes.init import Auth"
   ]
  },
  {
   "cell_type": "code",
   "execution_count": 6,
   "metadata": {},
   "outputs": [],
   "source": [
    "weaviate_api_key=\"a1ZPSlg2c0FFcVR4NTZHeV92Zk14UzZKTXc0eVlmV3FyVEpLdmg2VFkyQVV2aWRFdE9Lak1rNHQ3dHJJPV92MjAw\"\n",
    "weaviate_url=\"oyb9gsz0qrsdauv6yf5og.c0.asia-southeast1.gcp.weaviate.cloud\""
   ]
  },
  {
   "cell_type": "code",
   "execution_count": 10,
   "metadata": {},
   "outputs": [
    {
     "name": "stdout",
     "output_type": "stream",
     "text": [
      "True\n"
     ]
    }
   ],
   "source": [
    "client = weaviate.connect_to_weaviate_cloud(\n",
    "     cluster_url=weaviate_url,\n",
    "     auth_credentials=Auth.api_key(weaviate_api_key)\n",
    ")\n",
    "print(client.is_ready())"
   ]
  }
 ],
 "metadata": {
  "kernelspec": {
   "display_name": "gen-ai-bootcamp-euron",
   "language": "python",
   "name": "python3"
  },
  "language_info": {
   "codemirror_mode": {
    "name": "ipython",
    "version": 3
   },
   "file_extension": ".py",
   "mimetype": "text/x-python",
   "name": "python",
   "nbconvert_exporter": "python",
   "pygments_lexer": "ipython3",
   "version": "3.10.18"
  }
 },
 "nbformat": 4,
 "nbformat_minor": 2
}
